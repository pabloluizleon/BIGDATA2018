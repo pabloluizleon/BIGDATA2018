{
 "cells": [
  {
   "cell_type": "markdown",
   "metadata": {},
   "source": [
    "# Trabalho de Data Mining"
   ]
  },
  {
   "cell_type": "markdown",
   "metadata": {},
   "source": [
    "Nome: Pablo Luiz Leon"
   ]
  },
  {
   "cell_type": "markdown",
   "metadata": {},
   "source": [
    "Esse notebook introduz os conceitos básicos do Spark através de sua interface com a linguagem Python. Para execução do trabalho da Disciplina Data Mining na Universidade Federal do ABC.\n",
    "\n"
   ]
  },
  {
   "cell_type": "markdown",
   "metadata": {},
   "source": [
    "Inicialmente iremos preparar os dados. Consiste em um código em Python que irá ler todos os arquivos com dados da Bolsa de Valores Americana e irá pegar os dados para execução do algoritmo.\n",
    "\n"
   ]
  },
  {
   "cell_type": "code",
   "execution_count": 165,
   "metadata": {
    "scrolled": false
   },
   "outputs": [
    {
     "name": "stdout",
     "output_type": "stream",
     "text": [
      "['2010-07-21;5']\n",
      "\n",
      "\n",
      "\n",
      "\n",
      "[('5', 0), ('1', 1), ('2', 2), ('4', 3), ('4', 4), ('3.5', 5), ('-2', 6), ('1', 7), ('2', 8), ('0', 9)]\n",
      "[[(0, '5')], [(0, '1'), (1, '1')], [(0, '2'), (1, '2'), (2, '2')], [(0, '4'), (1, '4'), (2, '4'), (3, '4')], [(0, '4'), (1, '4'), (2, '4'), (3, '4'), (4, '4')], [(0, '3.5'), (1, '3.5'), (2, '3.5'), (3, '3.5'), (4, '3.5'), (5, '3.5')], [(0, '-2'), (1, '-2'), (2, '-2'), (3, '-2'), (4, '-2'), (5, '-2'), (6, '-2')], [(0, '1'), (1, '1'), (2, '1'), (3, '1'), (4, '1'), (5, '1'), (6, '1'), (7, '1')], [(0, '2'), (1, '2'), (2, '2'), (3, '2'), (4, '2'), (5, '2'), (6, '2'), (7, '2'), (8, '2')], [(0, '0'), (1, '0'), (2, '0'), (3, '0'), (4, '0'), (5, '0'), (6, '0'), (7, '0'), (8, '0'), (9, '0')]]\n",
      "\n",
      "[(0, '5')]\n",
      "[(0, '1'), (1, '1')]\n",
      "[(0, '2'), (1, '2'), (2, '2')]\n",
      "[(0, '4'), (1, '4'), (2, '4'), (3, '4')]\n",
      "[(0, '4'), (1, '4'), (2, '4'), (3, '4'), (4, '4')]\n",
      "[(0, '3.5'), (1, '3.5'), (2, '3.5'), (3, '3.5'), (4, '3.5'), (5, '3.5')]\n",
      "[(0, '-2'), (1, '-2'), (2, '-2'), (3, '-2'), (4, '-2'), (5, '-2'), (6, '-2')]\n",
      "[(0, '1'), (1, '1'), (2, '1'), (3, '1'), (4, '1'), (5, '1'), (6, '1'), (7, '1')]\n",
      "[(0, '2'), (1, '2'), (2, '2'), (3, '2'), (4, '2'), (5, '2'), (6, '2'), (7, '2'), (8, '2')]\n",
      "[(0, '0'), (1, '0'), (2, '0'), (3, '0'), (4, '0'), (5, '0'), (6, '0'), (7, '0'), (8, '0'), (9, '0')]\n",
      "\n",
      "2.990697562442441\n"
     ]
    }
   ],
   "source": [
    "# Operação para Unir Todos os arquivos de dados em um único arquivo.\n",
    "\n",
    "from pyspark import SparkContext\n",
    "from pyspark import SparkConf\n",
    "sc = SparkContext.getOrCreate()\n",
    "\n",
    "import sys\n",
    "import os\n",
    "from glob import glob\n",
    "import pandas as pd\n",
    "import numpy as np\n",
    "\n",
    "#C:/UFABC/DADOS/ETFs\n",
    "\n",
    "from os.path import isfile, join\n",
    "from operator import add\n",
    "\n",
    "arquivo = os.path.join('Data', 'C:/UFABC/DADOS/ETFs/Dados_Teste.txt') \n",
    "\n",
    "# lê o arquivo com os dados e carrega em um RDD        \n",
    "DadosRDD = (sc.textFile(arquivo, 8))\n",
    "\n",
    "print(DadosRDD.take(1))\n",
    "\n",
    "RDDDadosSeparados = DadosRDD.map(lambda x: x.split(\";\"))\n",
    "#print(RDDDadosSeparados.collect())\n",
    "print(\"\\n\\n\\n\")\n",
    "\n",
    "RDD_DadosComIndicie = RDDDadosSeparados.map(lambda x: x[1]).zipWithIndex()\n",
    "print(RDD_DadosComIndicie.collect())\n",
    "\n",
    "#N para determinar o valor temporal dos dados\n",
    "n = 2\n",
    "\n",
    "DadosListaRDD = RDD_DadosComIndicie.map(lambda x : [(i,x[0]) for i in range(x[1]+1)])\n",
    "\n",
    "print(DadosListaRDD.collect())\n",
    "        \n",
    "#['5', '1', '2', '4', '4', '3.5', '-2', '1', '2', '0']\n",
    "\n",
    "\n",
    "#RDDTupla2 = RDDTupla.map(lambda x: ( [for y in RDDValues.collect()] ))\n",
    "\n",
    "print ('')\n",
    "for i in DadosListaRDD.collect():\n",
    "    print(i)\n",
    "    \n",
    "    \n",
    "#print(RDDTupla1.collect())\n",
    "def criarDados(RDD_Base, tamanho_Lista):\n",
    "    \"\"\"Cria uma RDD onde: \n",
    "    id: Identificador\n",
    "    lista: quantidade de itens do RDD base como itens de lista\n",
    "    valor da lista + 1: valor posterior do RDD base \n",
    "\n",
    "    Args:\n",
    "        RDD_Base: Base de Dados.\n",
    "        tamanho_list: qunantidade de valores para cada lista de cada item \n",
    "\n",
    "    Returns:\n",
    "        RDD novo contedo: id / lista de valores / valor posterior da lista de dados do RDD de origem depois da criação da lista.\n",
    "    \"\"\"\n",
    "    #Point = \n",
    "    \n",
    "    #RDD_Result = \n",
    "    return RDD_Result\n",
    "\n",
    "\n",
    "list1 = [25,5]\n",
    "list2 = [25,5]\n",
    "\n",
    "def DistanciaEuclediana(list1_pontos, list2_pontos):\n",
    "    \"\"\"Calcula a Distancia Euclediana entre dois pontos:     \n",
    "    \n",
    "    distancia = ((x1 - x2)^2 + (y1 - y2)^2)^2;\n",
    "    \n",
    "    Args:\n",
    "        Lista de pontos 1.\n",
    "        Lista de Pontos 2.\n",
    "    \n",
    "    Returns:\n",
    "        Valor da distancia euclediana\n",
    "    \"\"\"\n",
    "    valor1 = np.sqrt(list1_pontos[0] - list1_pontos[1])\n",
    "    valor2 = np.sqrt(list2_pontos[0] - list2_pontos[1])\n",
    "    somaValoresRDD = np.sqrt(valor1+valor2)\n",
    "    \n",
    "    return somaValoresRDD\n",
    "print('')\n",
    "print(DistanciaEuclediana(list1,list2))\n",
    "\n"
   ]
  },
  {
   "cell_type": "code",
   "execution_count": null,
   "metadata": {},
   "outputs": [],
   "source": []
  },
  {
   "cell_type": "code",
   "execution_count": null,
   "metadata": {},
   "outputs": [],
   "source": []
  }
 ],
 "metadata": {
  "celltoolbar": "Raw Cell Format",
  "kernelspec": {
   "display_name": "Python 3",
   "language": "python",
   "name": "python3"
  },
  "language_info": {
   "codemirror_mode": {
    "name": "ipython",
    "version": 3
   },
   "file_extension": ".py",
   "mimetype": "text/x-python",
   "name": "python",
   "nbconvert_exporter": "python",
   "pygments_lexer": "ipython3",
   "version": "3.6.4"
  }
 },
 "nbformat": 4,
 "nbformat_minor": 2
}
